{
 "cells": [
  {
   "cell_type": "code",
   "execution_count": 2,
   "metadata": {},
   "outputs": [
    {
     "name": "stdout",
     "output_type": "stream",
     "text": [
      "Digite a kilometragem anterior: 33100\n",
      "Digite a kilometragem atual: 33600\n",
      "Digite os litros abastecidos: 32\n",
      "A media é: 15.625\n"
     ]
    }
   ],
   "source": [
    "#calclular media de kilometros rodados com um litro de combustivel\n",
    "kmant = int(input('Digite a kilometragem anterior: '))\n",
    "kmatu = int(input('Digite a kilometragem atual: '))\n",
    "litros = float(input('Digite os litros abastecidos: '))\n",
    "media = (kmatu - kmant) / litros\n",
    "print('A media é: {}'.format(media))"
   ]
  },
  {
   "cell_type": "code",
   "execution_count": null,
   "metadata": {},
   "outputs": [],
   "source": []
  }
 ],
 "metadata": {
  "kernelspec": {
   "display_name": "Python 3",
   "language": "python",
   "name": "python3"
  },
  "language_info": {
   "codemirror_mode": {
    "name": "ipython",
    "version": 3
   },
   "file_extension": ".py",
   "mimetype": "text/x-python",
   "name": "python",
   "nbconvert_exporter": "python",
   "pygments_lexer": "ipython3",
   "version": "3.8.3"
  }
 },
 "nbformat": 4,
 "nbformat_minor": 4
}
